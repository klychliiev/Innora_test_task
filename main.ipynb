{
 "cells": [
  {
   "cell_type": "markdown",
   "metadata": {},
   "source": [
    "# Task"
   ]
  },
  {
   "cell_type": "markdown",
   "metadata": {},
   "source": [
    "- Створити процес, для повороту документів в книжкову орієнтацію, з використанням ML моделі яка буде визначати кут від -30 до 30 градусів.\n",
    "- Дозволено використовувати pytorch і tf та будь які бібліотеки, які будуть допоміжними.\n",
    "- По часовим обмеженням: модель має працювати орієнтовно 5 секунд або менше, але це не критична вимога.\n",
    "- Процес має бути у презентативному стані, тобто в міру задокументованим і зрозумілим при ревю."
   ]
  },
  {
   "cell_type": "markdown",
   "metadata": {},
   "source": [
    "# Angle detection using open-cv"
   ]
  },
  {
   "cell_type": "code",
   "execution_count": 1,
   "metadata": {},
   "outputs": [],
   "source": [
    "import numpy as np\n",
    "import cv2\n",
    "import math\n",
    "from PIL import Image\n",
    "import json\n",
    "import os \n",
    "from natsort import natsorted # natural sorting"
   ]
  },
  {
   "cell_type": "code",
   "execution_count": 2,
   "metadata": {},
   "outputs": [],
   "source": [
    "def calculate_angle(image_path):\n",
    "\n",
    "    img_before = cv2.imread(image_path)\n",
    "\n",
    "    img_gray = cv2.cvtColor(img_before, cv2.COLOR_BGR2GRAY)\n",
    "    img_edges = cv2.Canny(img_gray, 100, 100, apertureSize=3)\n",
    "    lines = cv2.HoughLinesP(img_edges, 1, math.pi / 180.0, 100, minLineLength=100, maxLineGap=5)\n",
    "\n",
    "    angles = []\n",
    "\n",
    "    for [[x1, y1, x2, y2]] in lines:\n",
    "        cv2.line(img_before, (x1, y1), (x2, y2), (255, 0, 0), 3)\n",
    "        angle = math.degrees(math.atan2(y2 - y1, x2 - x1))\n",
    "        angles.append(angle)\n",
    "\n",
    "    median_angle = np.median(angles)\n",
    "\n",
    "\n",
    "    return round(median_angle, 2)"
   ]
  },
  {
   "cell_type": "code",
   "execution_count": 3,
   "metadata": {},
   "outputs": [
    {
     "name": "stdout",
     "output_type": "stream",
     "text": [
      "invoices_rotated/0.png: 7\n",
      "invoices_rotated/1.png: -2\n",
      "invoices_rotated/2.png: -9\n",
      "invoices_rotated/3.png: -7\n",
      "invoices_rotated/4.png: -1\n",
      "invoices_rotated/5.png: -6\n",
      "invoices_rotated/6.png: 5\n",
      "invoices_rotated/7.png: -2\n",
      "invoices_rotated/8.png: -4\n",
      "invoices_rotated/9.png: -1\n",
      "invoices_rotated/10.png: -4\n"
     ]
    }
   ],
   "source": [
    "PREDICTED_ANGLES = {}\n",
    "PATH = 'invoices_rotated'\n",
    "\n",
    "for image in natsorted(os.listdir(PATH)):\n",
    "    image_path = os.path.join(PATH, image)\n",
    "\n",
    "    # the negative angle is used because we need not a rotation angle \n",
    "    # but an angle-to-rotate the image to normalize it\n",
    "    negative_angle = -(round(calculate_angle(image_path)))\n",
    "\n",
    "    # detect an angle within the range of [-30,30] degrees\n",
    "    if negative_angle in range(-30,31):\n",
    "        PREDICTED_ANGLES[image_path] = negative_angle\n",
    "        print(f'{image_path}: {negative_angle}')\n",
    "    else:\n",
    "        continue\n",
    "\n",
    "with open('predicted_angles.json', 'w') as json_file:\n",
    "    # store image paths as keys and predicted angles as values into a  JSON file\n",
    "    json.dump(PREDICTED_ANGLES, json_file, indent=4)"
   ]
  },
  {
   "cell_type": "markdown",
   "metadata": {},
   "source": [
    "### Image rotation using the calculated angle value"
   ]
  },
  {
   "cell_type": "code",
   "execution_count": 4,
   "metadata": {},
   "outputs": [],
   "source": [
    "# specify the image path\n",
    "image_path = 'invoices_rotated/10.png'\n",
    "\n",
    "# calculate angle using before defined function\n",
    "detected_angle = calculate_angle(image_path)\n",
    "\n",
    "# create at Image object\n",
    "pil_image = Image.open(image_path)\n",
    "\n",
    "# rotate image by the calculated angle\n",
    "rotated_image = pil_image.rotate(detected_angle)\n",
    "\n",
    "# show the rotated image\n",
    "rotated_image.show()"
   ]
  },
  {
   "cell_type": "code",
   "execution_count": null,
   "metadata": {},
   "outputs": [],
   "source": []
  }
 ],
 "metadata": {
  "kernelspec": {
   "display_name": "tensorflow",
   "language": "python",
   "name": "python3"
  },
  "language_info": {
   "codemirror_mode": {
    "name": "ipython",
    "version": 3
   },
   "file_extension": ".py",
   "mimetype": "text/x-python",
   "name": "python",
   "nbconvert_exporter": "python",
   "pygments_lexer": "ipython3",
   "version": "3.9.17"
  },
  "orig_nbformat": 4
 },
 "nbformat": 4,
 "nbformat_minor": 2
}
